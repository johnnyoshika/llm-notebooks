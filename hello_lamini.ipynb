{
 "cells": [
  {
   "cell_type": "markdown",
   "metadata": {},
   "source": [
    "# Hello Lamini\n",
    "\n",
    "https://lamini-ai.github.io/"
   ]
  },
  {
   "cell_type": "code",
   "execution_count": 2,
   "metadata": {},
   "outputs": [],
   "source": [
    "import os\n",
    "from dotenv import load_dotenv\n",
    "from lamini import LlamaV2Runner\n",
    "\n",
    "load_dotenv()\n",
    "\n",
    "# Uses meta-llama/Llama-2-7b-chat-hf by default\n",
    "model = LlamaV2Runner(\n",
    "    config={\"production.key\": os.getenv(\"LAMINI_API_TOKEN\")}\n",
    ")"
   ]
  },
  {
   "cell_type": "code",
   "execution_count": 4,
   "metadata": {},
   "outputs": [
    {
     "name": "stdout",
     "output_type": "stream",
     "text": [
      "  Of course, I'd be happy to tell you a story about llamas! 🐮\n",
      "\n",
      "Once upon a time, in a lush and vibrant valley nestled between two great mountains, there lived a group of friendly llamas. These llamas were known far and wide for their soft, gentle nature and their incredible knack for solving puzzles.\n",
      "\n",
      "One sunny day, a curious young llama named Luna decided to explore the nearby forest. As she wandered deeper into the woods, she stumbled upon a mysterious object - a small, intricately carved box with a riddle etched onto its lid.\n",
      "\n",
      "Luna was determined to solve the riddle and unlock the box's secrets, so she spent the next few days pondering the clues and trying different combinations of letters and numbers. Finally, after much thought and effort, she cracked the code and opened the box.\n",
      "\n",
      "Inside, she found a beautiful, shimmering crystal that glowed with a soft, ethereal light. Luna was overjoyed and knew that she had discovered something truly special.\n",
      "\n",
      "As she made her way back to her her\n"
     ]
    }
   ],
   "source": [
    "answer = model(\"Tell me a story about llamas.\")\n",
    "print(answer)"
   ]
  }
 ],
 "metadata": {
  "kernelspec": {
   "display_name": "venv",
   "language": "python",
   "name": "python3"
  },
  "language_info": {
   "codemirror_mode": {
    "name": "ipython",
    "version": 3
   },
   "file_extension": ".py",
   "mimetype": "text/x-python",
   "name": "python",
   "nbconvert_exporter": "python",
   "pygments_lexer": "ipython3",
   "version": "3.10.11"
  }
 },
 "nbformat": 4,
 "nbformat_minor": 2
}
