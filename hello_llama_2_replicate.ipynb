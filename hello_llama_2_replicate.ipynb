{
 "cells": [
  {
   "cell_type": "markdown",
   "metadata": {},
   "source": [
    "# Hello Llama 2 Replicate"
   ]
  },
  {
   "cell_type": "code",
   "execution_count": 1,
   "metadata": {},
   "outputs": [
    {
     "data": {
      "text/plain": [
       "True"
      ]
     },
     "execution_count": 1,
     "metadata": {},
     "output_type": "execute_result"
    }
   ],
   "source": [
    "from dotenv import load_dotenv\n",
    "\n",
    "load_dotenv()"
   ]
  },
  {
   "cell_type": "code",
   "execution_count": 2,
   "metadata": {},
   "outputs": [],
   "source": [
    "import replicate\n",
    "\n",
    "def replicate_run(prompt):\n",
    "    output = replicate.run(\n",
    "        \"meta/llama-2-13b-chat:f4e2de70d66816a838a89eeeb621910adffb0dd0baba3976c96980970978018d\",\n",
    "        input={\"prompt\": prompt}\n",
    "    )\n",
    "    # The meta/llama-2-13b-chat model can stream output as it's running.\n",
    "    # The predict method returns an iterator, and you can iterate over that output.\n",
    "    # https://replicate.com/meta/llama-2-13b-chat/versions/f4e2de70d66816a838a89eeeb621910adffb0dd0baba3976c96980970978018d/api#output-schema\n",
    "    return \"\".join(output)"
   ]
  },
  {
   "cell_type": "code",
   "execution_count": 5,
   "metadata": {},
   "outputs": [
    {
     "name": "stdout",
     "output_type": "stream",
     "text": [
      " Oh my whiskers! As a helpful assistant, I'm here to answer all your questions, but I must inform you that dogs cannot drive cars. Dogs do not have the physical ability or cognitive capacity to operate vehicles. They don't have opposable thumbs, and their sense of spatial awareness is not developed enough to navigate complex traffic situations. Additionally, driving requires a great deal of concentration and attention to detail, which is beyond the capabilities of our furry friends. So, while dogs can be excellent passengers, they should not be behind the wheel.\n"
     ]
    }
   ],
   "source": [
    "print(replicate_run(\"Can a dog drive a car?\"))"
   ]
  }
 ],
 "metadata": {
  "kernelspec": {
   "display_name": "venv",
   "language": "python",
   "name": "python3"
  },
  "language_info": {
   "codemirror_mode": {
    "name": "ipython",
    "version": 3
   },
   "file_extension": ".py",
   "mimetype": "text/x-python",
   "name": "python",
   "nbconvert_exporter": "python",
   "pygments_lexer": "ipython3",
   "version": "3.10.11"
  }
 },
 "nbformat": 4,
 "nbformat_minor": 2
}
