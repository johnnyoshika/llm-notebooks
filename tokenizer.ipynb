{
 "cells": [
  {
   "cell_type": "markdown",
   "metadata": {},
   "source": [
    "# Use tiktoken to tokenize text\n",
    "\n",
    "Compare with: https://blog.devgenius.io/counting-tokens-for-openai-gpt-3-api-59c8e0812eeb\n",
    "\n",
    "Code sample: https://github.com/openai/openai-cookbook/blob/main/examples/How_to_count_tokens_with_tiktoken.ipynb"
   ]
  },
  {
   "cell_type": "code",
   "execution_count": 23,
   "metadata": {},
   "outputs": [],
   "source": [
    "import tiktoken\n",
    "\n",
    "def tokenize(encoding, text):\n",
    "    token_integers  = encoding.encode(text)\n",
    "    token_bytes = [encoding.decode_single_token_bytes(token) for token in token_integers]\n",
    "    token_texts = [token.decode('utf-8') for token in token_bytes]\n",
    "    return token_texts"
   ]
  },
  {
   "cell_type": "markdown",
   "metadata": {},
   "source": [
    "## Modern GPT-3 Tokenizer"
   ]
  },
  {
   "cell_type": "code",
   "execution_count": 24,
   "metadata": {},
   "outputs": [
    {
     "name": "stdout",
     "output_type": "stream",
     "text": [
      "['prompt', 'ing']\n"
     ]
    }
   ],
   "source": [
    "\n",
    "print(tokenize(tiktoken.encoding_for_model(\"gpt-3.5-turbo\"), \"prompting\"))\n"
   ]
  },
  {
   "cell_type": "markdown",
   "metadata": {},
   "source": [
    "## Legacy GPT-3 Tokenizer"
   ]
  },
  {
   "cell_type": "code",
   "execution_count": 25,
   "metadata": {},
   "outputs": [
    {
     "name": "stdout",
     "output_type": "stream",
     "text": [
      "['prom', 'pt', 'ing']\n"
     ]
    }
   ],
   "source": [
    "\n",
    "print(tokenize(tiktoken.get_encoding(\"p50k_base\"), \"prompting\"))"
   ]
  }
 ],
 "metadata": {
  "kernelspec": {
   "display_name": "venv",
   "language": "python",
   "name": "python3"
  },
  "language_info": {
   "codemirror_mode": {
    "name": "ipython",
    "version": 3
   },
   "file_extension": ".py",
   "mimetype": "text/x-python",
   "name": "python",
   "nbconvert_exporter": "python",
   "pygments_lexer": "ipython3",
   "version": "3.10.11"
  }
 },
 "nbformat": 4,
 "nbformat_minor": 2
}
