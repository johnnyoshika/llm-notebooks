{
 "cells": [
  {
   "cell_type": "code",
   "execution_count": 3,
   "metadata": {},
   "outputs": [],
   "source": [
    "import requests\n",
    "import datetime\n",
    "import os\n",
    "\n",
    "# API key\n",
    "api_key = os.getenv(\"OPENAI_API_KEY\")\n",
    "\n",
    "# API headers\n",
    "headers = {'Authorization': f'Bearer {api_key}'}\n",
    "\n",
    "# API endpoint\n",
    "url = 'https://api.openai.com/v1/usage'\n",
    "\n",
    "# Date for which to get usage data\n",
    "date = datetime.date(2023, 11, 12)\n",
    "\n",
    "# Parameters for API request\n",
    "params = {'date': date.strftime('%Y-%m-%d')}\n",
    "\n",
    "# Send API request and get response\n",
    "response = requests.get(url, headers=headers, params=params)\n",
    "usage_data = response.json()['data']"
   ]
  },
  {
   "cell_type": "code",
   "execution_count": 4,
   "metadata": {},
   "outputs": [
    {
     "name": "stdout",
     "output_type": "stream",
     "text": [
      "Snapshot ID                    Requests   Context Tokens       Generated Tokens     Total Tokens        \n",
      "gpt-4-0613                              4                 3665                  388                 4053\n",
      "gpt-4-1106-vision-preview               8                 9005                  128                 9133\n"
     ]
    }
   ],
   "source": [
    "calc_total_tokens = lambda item: item['n_context_tokens_total'] + item['n_generated_tokens_total']\n",
    "\n",
    "accumulated_data = {}\n",
    "\n",
    "# There are often duplicate snapshot_id, so merge them\n",
    "for item in usage_data:\n",
    "    if calc_total_tokens(item) > 0:\n",
    "        snapshot_id = item['snapshot_id']\n",
    "\n",
    "        if snapshot_id not in accumulated_data:\n",
    "            # Initialize a new entry\n",
    "            accumulated_data[snapshot_id] = item.copy()\n",
    "            accumulated_data[snapshot_id]['n_tokens_total'] = calc_total_tokens(item)\n",
    "        else:\n",
    "            # Update the existing entry by summing up the values\n",
    "            accumulated_data[snapshot_id]['n_requests'] += item['n_requests']\n",
    "            accumulated_data[snapshot_id]['n_context_tokens_total'] += item['n_context_tokens_total']\n",
    "            accumulated_data[snapshot_id]['n_generated_tokens_total'] += item['n_generated_tokens_total']\n",
    "            accumulated_data[snapshot_id]['n_tokens_total'] += calc_total_tokens(item)\n",
    "\n",
    "filtered_data = list(accumulated_data.values())\n",
    "\n",
    "# Print table headers\n",
    "print(f\"{'Snapshot ID':30} {'Requests':10} {'Context Tokens':20} {'Generated Tokens':20} {'Total Tokens':20}\")\n",
    "\n",
    "# Iterate and print each item in a formatted way\n",
    "for item in filtered_data:\n",
    "    print(f\"{item['snapshot_id']:30} {item['n_requests']:10} {item['n_context_tokens_total']:20} {item['n_generated_tokens_total']:20} {item['n_tokens_total']:20}\")\n"
   ]
  }
 ],
 "metadata": {
  "kernelspec": {
   "display_name": "venv",
   "language": "python",
   "name": "python3"
  },
  "language_info": {
   "codemirror_mode": {
    "name": "ipython",
    "version": 3
   },
   "file_extension": ".py",
   "mimetype": "text/x-python",
   "name": "python",
   "nbconvert_exporter": "python",
   "pygments_lexer": "ipython3",
   "version": "3.10.11"
  }
 },
 "nbformat": 4,
 "nbformat_minor": 2
}
