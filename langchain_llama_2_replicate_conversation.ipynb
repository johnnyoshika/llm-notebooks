{
 "cells": [
  {
   "cell_type": "markdown",
   "metadata": {},
   "source": [
    "# LangChain Llama 2 Replicate Conversation"
   ]
  },
  {
   "cell_type": "code",
   "execution_count": 1,
   "metadata": {},
   "outputs": [
    {
     "data": {
      "text/plain": [
       "True"
      ]
     },
     "execution_count": 1,
     "metadata": {},
     "output_type": "execute_result"
    }
   ],
   "source": [
    "from dotenv import load_dotenv\n",
    "\n",
    "load_dotenv()"
   ]
  },
  {
   "cell_type": "markdown",
   "metadata": {},
   "source": [
    "## Enable Debug"
   ]
  },
  {
   "cell_type": "code",
   "execution_count": 2,
   "metadata": {},
   "outputs": [],
   "source": [
    "from langchain.globals import set_debug, set_verbose\n",
    "\n",
    "# set_debug overrides set_verbose\n",
    "set_debug(True)\n",
    "# set_verbose(True)"
   ]
  },
  {
   "cell_type": "markdown",
   "metadata": {},
   "source": [
    "## Build Memory"
   ]
  },
  {
   "cell_type": "code",
   "execution_count": 3,
   "metadata": {},
   "outputs": [],
   "source": [
    "from langchain.memory import ConversationBufferMemory\n",
    "memory = ConversationBufferMemory()"
   ]
  },
  {
   "cell_type": "code",
   "execution_count": 4,
   "metadata": {},
   "outputs": [],
   "source": [
    "from langchain.llms import Replicate\n",
    "from langchain.chains import ConversationChain\n",
    "\n",
    "llm = Replicate(\n",
    "    model=\"meta/llama-2-13b-chat:f4e2de70d66816a838a89eeeb621910adffb0dd0baba3976c96980970978018d\",\n",
    "    model_kwargs={\"temperature\": 0.1}\n",
    ")\n",
    "\n",
    "conversation = ConversationChain(\n",
    "    llm=llm,\n",
    "    memory=memory\n",
    ")"
   ]
  },
  {
   "cell_type": "markdown",
   "metadata": {},
   "source": [
    "## Start Conversation"
   ]
  },
  {
   "cell_type": "code",
   "execution_count": 5,
   "metadata": {},
   "outputs": [
    {
     "name": "stdout",
     "output_type": "stream",
     "text": [
      "\n",
      "\n",
      "\u001b[1m> Entering new ConversationChain chain...\u001b[0m\n",
      "Prompt after formatting:\n",
      "\u001b[32;1m\u001b[1;3mThe following is a friendly conversation between a human and an AI. The AI is talkative and provides lots of specific details from its context. If the AI does not know the answer to a question, it truthfully says it does not know.\n",
      "\n",
      "Current conversation:\n",
      "\n",
      "Human: User: Answer the following yes/no question by reasoning step by step. Can a dog drive a car?\n",
      "Assistant:\n",
      "\n",
      "AI:\u001b[0m\n",
      "\n",
      "\u001b[1m> Finished chain.\u001b[0m\n"
     ]
    },
    {
     "data": {
      "text/plain": [
       "' Sure thing! I\\'d be happy to help you with that question.\\n\\nFirst, let me clarify what we mean by \"drive a car.\" When we say \"drive,\" we\\'re talking about operating a vehicle on a road or highway, using the steering wheel, pedals, and other controls to navigate through traffic and reach a destination. So, can a dog do this?\\n\\nWell, the first thing to consider is whether a dog has the physical ability to operate a car. Dogs don\\'t have opposable thumbs, which means they can\\'t physically grasp or manipulate objects like humans'"
      ]
     },
     "execution_count": 5,
     "metadata": {},
     "output_type": "execute_result"
    }
   ],
   "source": [
    "prompt = \"\"\"User: Answer the following yes/no question by reasoning step by step. Can a dog drive a car?\n",
    "Assistant:\n",
    "\"\"\"\n",
    "\n",
    "conversation.predict(input=prompt)"
   ]
  },
  {
   "cell_type": "markdown",
   "metadata": {},
   "source": [
    "## Continue Conversation"
   ]
  },
  {
   "cell_type": "code",
   "execution_count": 6,
   "metadata": {},
   "outputs": [
    {
     "name": "stdout",
     "output_type": "stream",
     "text": [
      "\n",
      "\n",
      "\u001b[1m> Entering new ConversationChain chain...\u001b[0m\n",
      "Prompt after formatting:\n",
      "\u001b[32;1m\u001b[1;3mThe following is a friendly conversation between a human and an AI. The AI is talkative and provides lots of specific details from its context. If the AI does not know the answer to a question, it truthfully says it does not know.\n",
      "\n",
      "Current conversation:\n",
      "Human: User: Answer the following yes/no question by reasoning step by step. Can a dog drive a car?\n",
      "Assistant:\n",
      "\n",
      "AI:  Sure thing! I'd be happy to help you with that question.\n",
      "\n",
      "First, let me clarify what we mean by \"drive a car.\" When we say \"drive,\" we're talking about operating a vehicle on a road or highway, using the steering wheel, pedals, and other controls to navigate through traffic and reach a destination. So, can a dog do this?\n",
      "\n",
      "Well, the first thing to consider is whether a dog has the physical ability to operate a car. Dogs don't have opposable thumbs, which means they can't physically grasp or manipulate objects like humans\n",
      "Human: So therefore what is your conclusion\n",
      "AI:\u001b[0m\n",
      "\n",
      "\u001b[1m> Finished chain.\u001b[0m\n"
     ]
    },
    {
     "data": {
      "text/plain": [
       "\" Sure thing! Based on the information provided, my conclusion is no, a dog cannot drive a car. Here's why:\\n\\n1. Lack of opposable thumbs: As mentioned earlier, dogs don't have opposable thumbs, which are essential for grasping and manipulating objects like steering wheels and pedals. Without these thumbs, dogs wouldn't be able to physically control the car.\\n2. Limited dexterity: Even if dogs had opposable thumbs, their paws and claws aren't designed for fine motor tasks like driving. Their paws are\""
      ]
     },
     "execution_count": 6,
     "metadata": {},
     "output_type": "execute_result"
    }
   ],
   "source": [
    "conversation.predict(input=\"So therefore what is your conclusion\")"
   ]
  }
 ],
 "metadata": {
  "kernelspec": {
   "display_name": "venv",
   "language": "python",
   "name": "python3"
  },
  "language_info": {
   "codemirror_mode": {
    "name": "ipython",
    "version": 3
   },
   "file_extension": ".py",
   "mimetype": "text/x-python",
   "name": "python",
   "nbconvert_exporter": "python",
   "pygments_lexer": "ipython3",
   "version": "3.10.11"
  }
 },
 "nbformat": 4,
 "nbformat_minor": 2
}
