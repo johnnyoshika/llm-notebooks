{
 "cells": [
  {
   "cell_type": "markdown",
   "metadata": {},
   "source": [
    "# LangChain Function Call Extraction\n",
    "\n",
    "From: https://learn.deeplearning.ai/functions-tools-agents-langchain/lesson/5/tagging-and-extraction"
   ]
  },
  {
   "cell_type": "code",
   "execution_count": 21,
   "metadata": {},
   "outputs": [],
   "source": [
    "import os\n",
    "import openai\n",
    "from dotenv import load_dotenv\n",
    "\n",
    "load_dotenv()\n",
    "\n",
    "openai.api_key  = os.environ['OPENAI_API_KEY']"
   ]
  },
  {
   "cell_type": "code",
   "execution_count": 22,
   "metadata": {},
   "outputs": [],
   "source": [
    "from typing import List, Optional\n",
    "from pydantic import BaseModel, Field\n",
    "from langchain.utils.openai_functions import convert_pydantic_to_openai_function\n",
    "import json"
   ]
  },
  {
   "cell_type": "markdown",
   "metadata": {},
   "source": [
    "## Use Pydantic (a validation library) to Define Functions\n",
    "\n",
    "Pydantic is just a validation library. But LangChain uses it (along with its `convert_pydantic_to_openai_function` function) to make it easier to define function definitions that adheres to OpenAI function calling format."
   ]
  },
  {
   "cell_type": "code",
   "execution_count": 23,
   "metadata": {},
   "outputs": [
    {
     "name": "stdout",
     "output_type": "stream",
     "text": [
      "{\n",
      "    \"name\": \"Information\",\n",
      "    \"description\": \"Information to extract.\",\n",
      "    \"parameters\": {\n",
      "        \"$defs\": {\n",
      "            \"Person\": {\n",
      "                \"description\": \"Information about a person.\",\n",
      "                \"properties\": {\n",
      "                    \"name\": {\n",
      "                        \"description\": \"person's name\",\n",
      "                        \"title\": \"Name\",\n",
      "                        \"type\": \"string\"\n",
      "                    },\n",
      "                    \"age\": {\n",
      "                        \"anyOf\": [\n",
      "                            {\n",
      "                                \"type\": \"integer\"\n",
      "                            },\n",
      "                            {\n",
      "                                \"type\": \"null\"\n",
      "                            }\n",
      "                        ],\n",
      "                        \"description\": \"person's age\",\n",
      "                        \"title\": \"Age\"\n",
      "                    }\n",
      "                },\n",
      "                \"required\": [\n",
      "                    \"name\",\n",
      "                    \"age\"\n",
      "                ],\n",
      "                \"title\": \"Person\",\n",
      "                \"type\": \"object\"\n",
      "            }\n",
      "        },\n",
      "        \"description\": \"Information to extract.\",\n",
      "        \"properties\": {\n",
      "            \"people\": {\n",
      "                \"description\": \"List of info about people\",\n",
      "                \"items\": {\n",
      "                    \"description\": \"Information about a person.\",\n",
      "                    \"properties\": {\n",
      "                        \"name\": {\n",
      "                            \"description\": \"person's name\",\n",
      "                            \"title\": \"Name\",\n",
      "                            \"type\": \"string\"\n",
      "                        },\n",
      "                        \"age\": {\n",
      "                            \"anyOf\": [\n",
      "                                {\n",
      "                                    \"type\": \"integer\"\n",
      "                                },\n",
      "                                {\n",
      "                                    \"type\": \"null\"\n",
      "                                }\n",
      "                            ],\n",
      "                            \"description\": \"person's age\",\n",
      "                            \"title\": \"Age\"\n",
      "                        }\n",
      "                    },\n",
      "                    \"required\": [\n",
      "                        \"name\",\n",
      "                        \"age\"\n",
      "                    ],\n",
      "                    \"title\": \"Person\",\n",
      "                    \"type\": \"object\"\n",
      "                },\n",
      "                \"title\": \"People\",\n",
      "                \"type\": \"array\"\n",
      "            }\n",
      "        },\n",
      "        \"required\": [\n",
      "            \"people\"\n",
      "        ],\n",
      "        \"title\": \"Information\",\n",
      "        \"type\": \"object\"\n",
      "    }\n",
      "}\n"
     ]
    }
   ],
   "source": [
    "class Person(BaseModel):\n",
    "    \"\"\"Information about a person.\"\"\"\n",
    "    name: str = Field(description=\"person's name\")\n",
    "    age: Optional[int] = Field(description=\"person's age\")\n",
    "\n",
    "class Information(BaseModel):\n",
    "    \"\"\"Information to extract.\"\"\"\n",
    "    people: List[Person] = Field(description=\"List of info about people\")\n",
    "\n",
    "extraction_function = convert_pydantic_to_openai_function(Information)\n",
    "\n",
    "print(json.dumps(extraction_function, indent=4))"
   ]
  },
  {
   "cell_type": "markdown",
   "metadata": {},
   "source": [
    "Note: in the notebook used in the course, the function definition shape looked different. It didn't have `$def` and `age` was different. It looked like this and was much less verbose:\n",
    "\n",
    "```\n",
    "{\n",
    "    \"name\": \"Information\",\n",
    "    \"description\": \"Information to extract.\",\n",
    "    \"parameters\": {\n",
    "        \"title\": \"Information\",\n",
    "        \"description\": \"Information to extract.\",\n",
    "        \"type\": \"object\",\n",
    "        \"properties\": {\n",
    "            \"people\": {\n",
    "                \"title\": \"People\",\n",
    "                \"description\": \"List of info about people\",\n",
    "                \"type\": \"array\",\n",
    "                \"items\": {\n",
    "                    \"title\": \"Person\",\n",
    "                    \"description\": \"Information about a person.\",\n",
    "                    \"type\": \"object\",\n",
    "                    \"properties\": {\n",
    "                        \"name\": {\n",
    "                            \"title\": \"Name\",\n",
    "                            \"description\": \"person's name\",\n",
    "                            \"type\": \"string\"\n",
    "                        },\n",
    "                        \"age\": {\n",
    "                            \"title\": \"Age\",\n",
    "                            \"description\": \"person's age\",\n",
    "                            \"type\": \"integer\"\n",
    "                        }\n",
    "                    },\n",
    "                    \"required\": [\n",
    "                        \"name\"\n",
    "                    ]\n",
    "                }\n",
    "            }\n",
    "        },\n",
    "        \"required\": [\n",
    "            \"people\"\n",
    "        ]\n",
    "    }\n",
    "}\n",
    "```"
   ]
  },
  {
   "cell_type": "code",
   "execution_count": 24,
   "metadata": {},
   "outputs": [
    {
     "data": {
      "text/plain": [
       "AIMessage(content='', additional_kwargs={'function_call': {'name': 'Information', 'arguments': '{\\n  \"people\": [\\n    {\\n      \"name\": \"Joe\",\\n      \"age\": 30\\n    },\\n    {\\n      \"name\": \"Martha\",\\n      \"age\": null\\n    }\\n  ]\\n}'}})"
      ]
     },
     "execution_count": 24,
     "metadata": {},
     "output_type": "execute_result"
    }
   ],
   "source": [
    "from langchain.prompts import ChatPromptTemplate\n",
    "from langchain.chat_models import ChatOpenAI\n",
    "\n",
    "model = ChatOpenAI(temperature=0)\n",
    "\n",
    "extraction_functions = [extraction_function]\n",
    "model = ChatOpenAI(temperature=0)\n",
    "extraction_model = model.bind(functions=extraction_functions, function_call={\"name\": \"Information\"})\n",
    "\n",
    "extraction_model.invoke(\"Joe is 30, his mom is Martha\")"
   ]
  },
  {
   "cell_type": "markdown",
   "metadata": {},
   "source": [
    "## Create a Chain\n",
    "\n",
    "Notice the prompt. We tell it not to guess. Without this, it may guess age 0 for Martha."
   ]
  },
  {
   "cell_type": "code",
   "execution_count": 25,
   "metadata": {},
   "outputs": [
    {
     "data": {
      "text/plain": [
       "AIMessage(content='', additional_kwargs={'function_call': {'name': 'Information', 'arguments': '{\\n  \"people\": [\\n    {\\n      \"name\": \"Joe\",\\n      \"age\": 30\\n    },\\n    {\\n      \"name\": \"Martha\",\\n      \"age\": null\\n    }\\n  ]\\n}'}})"
      ]
     },
     "execution_count": 25,
     "metadata": {},
     "output_type": "execute_result"
    }
   ],
   "source": [
    "prompt = ChatPromptTemplate.from_messages([\n",
    "    (\"system\", \"Extract the relevant information\"),\n",
    "    (\"human\", \"{input}\")\n",
    "])\n",
    "\n",
    "extraction_chain = prompt | extraction_model\n",
    "\n",
    "extraction_chain.invoke({\"input\": \"Joe is 30, his mom is Martha\"})"
   ]
  },
  {
   "cell_type": "markdown",
   "metadata": {},
   "source": [
    "## Parse Out Relevant Information\n",
    "\n",
    "That `additional_kwargs` in the above output is ugly. We know the response will always be function_call b/c we forced it with `function_call={\"name\": \"Information\"}` and we know the arguments will always be JSON, so let's use `JsonOutputFunctionsParser` to just give us the final output in dict format."
   ]
  },
  {
   "cell_type": "code",
   "execution_count": 26,
   "metadata": {},
   "outputs": [
    {
     "data": {
      "text/plain": [
       "{'people': [{'name': 'Joe', 'age': 30}, {'name': 'Martha', 'age': None}]}"
      ]
     },
     "execution_count": 26,
     "metadata": {},
     "output_type": "execute_result"
    }
   ],
   "source": [
    "from langchain.output_parsers.openai_functions import JsonOutputFunctionsParser\n",
    "\n",
    "extraction_chain = prompt | extraction_model | JsonOutputFunctionsParser()\n",
    "\n",
    "extraction_chain.invoke({\"input\": \"Joe is 30, his mom is Martha\"})"
   ]
  },
  {
   "cell_type": "markdown",
   "metadata": {},
   "source": [
    "## Use JsonKeyOutputFunctionsParser\n",
    "\n",
    "Let's go even further by grabbing just the `people` list."
   ]
  },
  {
   "cell_type": "code",
   "execution_count": 27,
   "metadata": {},
   "outputs": [
    {
     "data": {
      "text/plain": [
       "[{'name': 'Joe', 'age': 30}, {'name': 'Martha', 'age': None}]"
      ]
     },
     "execution_count": 27,
     "metadata": {},
     "output_type": "execute_result"
    }
   ],
   "source": [
    "from langchain.output_parsers.openai_functions import JsonKeyOutputFunctionsParser\n",
    "\n",
    "extraction_chain = prompt | extraction_model | JsonKeyOutputFunctionsParser(key_name=\"people\")\n",
    "\n",
    "extraction_chain.invoke({\"input\": \"Joe is 30, his mom is Martha\"})"
   ]
  }
 ],
 "metadata": {
  "kernelspec": {
   "display_name": "venv",
   "language": "python",
   "name": "python3"
  },
  "language_info": {
   "codemirror_mode": {
    "name": "ipython",
    "version": 3
   },
   "file_extension": ".py",
   "mimetype": "text/x-python",
   "name": "python",
   "nbconvert_exporter": "python",
   "pygments_lexer": "ipython3",
   "version": "3.10.11"
  }
 },
 "nbformat": 4,
 "nbformat_minor": 2
}
